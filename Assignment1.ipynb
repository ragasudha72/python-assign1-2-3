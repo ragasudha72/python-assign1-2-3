{
 "cells": [
  {
   "cell_type": "code",
   "execution_count": 1,
   "id": "b32884f2",
   "metadata": {},
   "outputs": [
    {
     "name": "stdout",
     "output_type": "stream",
     "text": [
      "Raga Sudha,Street 3,Sector 2D road,alkapoor,puppalguda,manikonda\n"
     ]
    }
   ],
   "source": [
    "print ('Raga Sudha,Street 3,Sector 2D road,alkapoor,puppalguda,manikonda')"
   ]
  },
  {
   "cell_type": "code",
   "execution_count": 2,
   "id": "dd35b401",
   "metadata": {},
   "outputs": [
    {
     "name": "stdout",
     "output_type": "stream",
     "text": [
      "enter name:vissu\n",
      "hello vissu\n"
     ]
    }
   ],
   "source": [
    "name=input(\"enter name:\")\n",
    "print('hello',name )"
   ]
  },
  {
   "cell_type": "code",
   "execution_count": 3,
   "id": "ee3af29a",
   "metadata": {},
   "outputs": [
    {
     "name": "stdout",
     "output_type": "stream",
     "text": [
      "5\n",
      "6\n",
      "area: 30\n"
     ]
    }
   ],
   "source": [
    "l=int(input())\n",
    "w=int(input())\n",
    "print(\"area:\",l*w)\n"
   ]
  },
  {
   "cell_type": "code",
   "execution_count": 4,
   "id": "e2edd6c3",
   "metadata": {},
   "outputs": [
    {
     "name": "stdout",
     "output_type": "stream",
     "text": [
      "4\n",
      "2\n",
      "2.25\n",
      "0.9\n",
      "1.0\n",
      "1.1\n",
      "1.35\n",
      "1\n",
      "1.1\n"
     ]
    }
   ],
   "source": [
    "n=int(input())\n",
    "for i in range(1,n+1):\n",
    "    s=float(input())\n",
    "    if(s>1):\n",
    "        print(s+0.25)\n",
    "    else:\n",
    "        print(s+0.10)"
   ]
  },
  {
   "cell_type": "code",
   "execution_count": 5,
   "id": "1d7eb5ff",
   "metadata": {},
   "outputs": [
    {
     "name": "stdout",
     "output_type": "stream",
     "text": [
      "400\n",
      "45\n",
      "517.0\n"
     ]
    }
   ],
   "source": [
    "t=int(input())\n",
    "tip=int(input())\n",
    "tax=(18*t)/100;\n",
    "print(float(t+tip+tax))"
   ]
  },
  {
   "cell_type": "code",
   "execution_count": 6,
   "id": "e55a0ae8",
   "metadata": {},
   "outputs": [
    {
     "name": "stdout",
     "output_type": "stream",
     "text": [
      "enter n:6\n",
      "sum: 21\n"
     ]
    }
   ],
   "source": [
    "n=int(input(\"enter n:\"))\n",
    "s=0\n",
    "for i in range(1,n+1):\n",
    "    s=s+i\n",
    "print(\"sum:\",s)    "
   ]
  },
  {
   "cell_type": "code",
   "execution_count": 7,
   "id": "0158affd",
   "metadata": {},
   "outputs": [
    {
     "name": "stdout",
     "output_type": "stream",
     "text": [
      "enter amount:1000\n",
      "after 1 yr: 1040.0\n",
      "after 2 yrs: 1081.6\n",
      "after 3 yrs: 1123.264\n"
     ]
    }
   ],
   "source": [
    "a=int(input(\"enter amount:\"))\n",
    "i=(a*4)/100\n",
    "print(\"after 1 yr:\",a+i);\n",
    "i2=((a+i)*4)/100\n",
    "print(\"after 2 yrs:\",a+i+i2);\n",
    "i3=((a+i2)*4)/100\n",
    "print(\"after 3 yrs:\",a+i+i2+i3);\n"
   ]
  },
  {
   "cell_type": "code",
   "execution_count": 8,
   "id": "b7c21cf5",
   "metadata": {},
   "outputs": [
    {
     "name": "stdout",
     "output_type": "stream",
     "text": [
      "enter in feet:1000\n",
      "in inches: 12000\n",
      "in yards: 333.3333333333333\n",
      "in miles: 0.1893939393939394\n"
     ]
    }
   ],
   "source": [
    "f=int(input(\"enter in feet:\"))\n",
    "print(\"in inches:\",12*f)\n",
    "print(\"in yards:\",f/3)\n",
    "print(\"in miles:\",f/5280)\n"
   ]
  },
  {
   "cell_type": "code",
   "execution_count": 9,
   "id": "7d696bbd",
   "metadata": {},
   "outputs": [
    {
     "name": "stdout",
     "output_type": "stream",
     "text": [
      "enter radius:100\n",
      "area of circle: 31415.926535897932\n",
      "volume of sphere: 4188790.2047863905\n"
     ]
    }
   ],
   "source": [
    "import math\n",
    "r=float(input(\"enter radius:\"))\n",
    "print(\"area of circle:\",math.pi*r*r)\n",
    "print(\"volume of sphere:\",(4*math.pi*r*r*r)/3)"
   ]
  },
  {
   "cell_type": "code",
   "execution_count": 10,
   "id": "b08e7a27",
   "metadata": {},
   "outputs": [
    {
     "name": "stdout",
     "output_type": "stream",
     "text": [
      "100\n",
      "final speed: 44.271887242357316\n"
     ]
    }
   ],
   "source": [
    "import math\n",
    "a=9.8\n",
    "d=int(input())\n",
    "print(\"final speed:\",math.sqrt(2*a*d));"
   ]
  },
  {
   "cell_type": "code",
   "execution_count": 11,
   "id": "5846a6e7",
   "metadata": {},
   "outputs": [
    {
     "name": "stdout",
     "output_type": "stream",
     "text": [
      "enter num:3141\n",
      "sum: 9\n"
     ]
    }
   ],
   "source": [
    "n=int(input(\"enter num:\"))\n",
    "s=n\n",
    "c=0\n",
    "while(s>0):\n",
    "    n=s%10\n",
    "    c=c+n\n",
    "    s=s//10\n",
    "print(\"sum:\",c)   "
   ]
  },
  {
   "cell_type": "code",
   "execution_count": null,
   "id": "d1925bb2",
   "metadata": {},
   "outputs": [],
   "source": []
  }
 ],
 "metadata": {
  "kernelspec": {
   "display_name": "Python 3 (ipykernel)",
   "language": "python",
   "name": "python3"
  },
  "language_info": {
   "codemirror_mode": {
    "name": "ipython",
    "version": 3
   },
   "file_extension": ".py",
   "mimetype": "text/x-python",
   "name": "python",
   "nbconvert_exporter": "python",
   "pygments_lexer": "ipython3",
   "version": "3.10.8"
  }
 },
 "nbformat": 4,
 "nbformat_minor": 5
}
