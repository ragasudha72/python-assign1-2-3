{
 "cells": [
  {
   "cell_type": "code",
   "execution_count": 1,
   "id": "25c87350",
   "metadata": {},
   "outputs": [
    {
     "name": "stdout",
     "output_type": "stream",
     "text": [
      "enter num:5\n",
      "sum: 25\n"
     ]
    }
   ],
   "source": [
    "n=int(input(\"enter num:\"))\n",
    "print(\"sum:\",n*n)"
   ]
  },
  {
   "cell_type": "code",
   "execution_count": 2,
   "id": "dafe6ecb",
   "metadata": {},
   "outputs": [
    {
     "name": "stdout",
     "output_type": "stream",
     "text": [
      "enter string:python\n",
      "consonants: 5\n",
      "vowels: 1\n"
     ]
    }
   ],
   "source": [
    "s=input(\"enter string:\")\n",
    "cv=0\n",
    "cc=0\n",
    "for i in range(0,len(s)):\n",
    "    if s[i] in ('a','e','i','o','u'):\n",
    "        cv=cv+1\n",
    "    else:\n",
    "        cc=cc+1\n",
    "print(\"consonants:\",cc)\n",
    "print(\"vowels:\",cv)"
   ]
  },
  {
   "cell_type": "code",
   "execution_count": 3,
   "id": "3dadee4b",
   "metadata": {},
   "outputs": [
    {
     "name": "stdout",
     "output_type": "stream",
     "text": [
      "fizzbuzz\n",
      "1\n",
      "2\n",
      "fizz\n",
      "4\n",
      "buzz\n",
      "fizz\n",
      "7\n",
      "8\n",
      "fizz\n",
      "buzz\n",
      "11\n",
      "fizz\n",
      "13\n",
      "14\n",
      "fizzbuzz\n",
      "16\n",
      "17\n",
      "fizz\n",
      "19\n",
      "buzz\n",
      "fizz\n",
      "22\n",
      "23\n",
      "fizz\n",
      "buzz\n",
      "26\n",
      "fizz\n",
      "28\n",
      "29\n",
      "fizzbuzz\n",
      "31\n",
      "32\n",
      "fizz\n",
      "34\n",
      "buzz\n",
      "fizz\n",
      "37\n",
      "38\n",
      "fizz\n",
      "buzz\n",
      "41\n",
      "fizz\n",
      "43\n",
      "44\n",
      "fizzbuzz\n",
      "46\n",
      "47\n",
      "fizz\n",
      "49\n",
      "buzz\n",
      "fizz\n",
      "52\n",
      "53\n",
      "fizz\n",
      "buzz\n",
      "56\n",
      "fizz\n",
      "58\n",
      "59\n",
      "fizzbuzz\n",
      "61\n",
      "62\n",
      "fizz\n",
      "64\n",
      "buzz\n",
      "fizz\n",
      "67\n",
      "68\n",
      "fizz\n",
      "buzz\n",
      "71\n",
      "fizz\n",
      "73\n",
      "74\n",
      "fizzbuzz\n",
      "76\n",
      "77\n",
      "fizz\n",
      "79\n",
      "buzz\n",
      "fizz\n",
      "82\n",
      "83\n",
      "fizz\n",
      "buzz\n",
      "86\n",
      "fizz\n",
      "88\n",
      "89\n",
      "fizzbuzz\n",
      "91\n",
      "92\n",
      "fizz\n",
      "94\n",
      "buzz\n",
      "fizz\n",
      "97\n",
      "98\n",
      "fizz\n",
      "buzz\n"
     ]
    }
   ],
   "source": [
    "for i in range(0,101):\n",
    "    if(i%5==0 and i%3==0):\n",
    "        print(\"fizzbuzz\")\n",
    "    elif(i%3==0):\n",
    "        print(\"fizz\")\n",
    "    elif(i%5==0):\n",
    "        print(\"buzz\")\n",
    "    else:\n",
    "        print(i)"
   ]
  },
  {
   "cell_type": "code",
   "execution_count": 4,
   "id": "5f3eb52c",
   "metadata": {},
   "outputs": [
    {
     "name": "stdout",
     "output_type": "stream",
     "text": [
      "In celsius: 0 In fahrenheit: 32.0\n",
      "In celsius: 10 In fahrenheit: 50.0\n",
      "In celsius: 20 In fahrenheit: 68.0\n",
      "In celsius: 30 In fahrenheit: 86.0\n",
      "In celsius: 40 In fahrenheit: 104.0\n",
      "In celsius: 50 In fahrenheit: 122.0\n",
      "In celsius: 60 In fahrenheit: 140.0\n",
      "In celsius: 70 In fahrenheit: 158.0\n",
      "In celsius: 80 In fahrenheit: 176.0\n",
      "In celsius: 90 In fahrenheit: 194.0\n",
      "In celsius: 100 In fahrenheit: 212.0\n"
     ]
    }
   ],
   "source": [
    "for i in range(0,11):\n",
    "    print(\"In celsius:\",10*i,\"In fahrenheit:\",(10*i*9/5)+32)"
   ]
  },
  {
   "cell_type": "code",
   "execution_count": null,
   "id": "7ef9b6b8",
   "metadata": {},
   "outputs": [],
   "source": []
  }
 ],
 "metadata": {
  "kernelspec": {
   "display_name": "Python 3 (ipykernel)",
   "language": "python",
   "name": "python3"
  },
  "language_info": {
   "codemirror_mode": {
    "name": "ipython",
    "version": 3
   },
   "file_extension": ".py",
   "mimetype": "text/x-python",
   "name": "python",
   "nbconvert_exporter": "python",
   "pygments_lexer": "ipython3",
   "version": "3.10.8"
  }
 },
 "nbformat": 4,
 "nbformat_minor": 5
}
