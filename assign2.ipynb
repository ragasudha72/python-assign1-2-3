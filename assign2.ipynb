{
 "cells": [
  {
   "cell_type": "code",
   "execution_count": 1,
   "id": "feda8fff",
   "metadata": {},
   "outputs": [
    {
     "name": "stdout",
     "output_type": "stream",
     "text": [
      "enter num:10\n",
      "even\n"
     ]
    }
   ],
   "source": [
    "n=int(input(\"enter num:\"))\n",
    "if(n%2==0):\n",
    "    print(\"even\")\n",
    "else:\n",
    "    print(\"odd\")"
   ]
  },
  {
   "cell_type": "code",
   "execution_count": 2,
   "id": "42aa289a",
   "metadata": {},
   "outputs": [
    {
     "name": "stdout",
     "output_type": "stream",
     "text": [
      "enter char:t\n",
      "consonant\n"
     ]
    }
   ],
   "source": [
    "c=input(\"enter char:\")\n",
    "if c in ('a','e','i','o','u','A','E','I','O','U'):\n",
    "    print(\"vowel\")\n",
    "elif c=='y':\n",
    "    print(\"sometimes y is consonant and sometimes vowel\")\n",
    "else:\n",
    "    print(\"consonant\")"
   ]
  },
  {
   "cell_type": "code",
   "execution_count": 3,
   "id": "d7a1c10a",
   "metadata": {},
   "outputs": [
    {
     "name": "stdout",
     "output_type": "stream",
     "text": [
      "enter side1:5\n",
      "enter side2:6\n",
      "enter side3:7\n",
      "scalane\n"
     ]
    }
   ],
   "source": [
    "a=int(input(\"enter side1:\"))\n",
    "b=int(input(\"enter side2:\"))\n",
    "c=int(input(\"enter side3:\"))\n",
    "if(a==b and b==c):\n",
    "    print(\"equilateral\")\n",
    "elif(a!=b and b!=c and c!=a):\n",
    "    print(\"scalane\")\n",
    "else:\n",
    "    print(\"isosceles\")"
   ]
  },
  {
   "cell_type": "code",
   "execution_count": 4,
   "id": "783f372d",
   "metadata": {},
   "outputs": [
    {
     "name": "stdout",
     "output_type": "stream",
     "text": [
      "enter month name:jan\n",
      "31 days\n"
     ]
    }
   ],
   "source": [
    "m=input(\"enter month name:\")\n",
    "if(m=='jan'):\n",
    "    print(\"31 days\")\n",
    "elif(m=='feb'):\n",
    "    print(\"28 or 29 days\")\n",
    "elif(m=='mar'):\n",
    "    print(\"31 days\")\n",
    "elif(m=='april'):\n",
    "    print(\"30 days\")\n",
    "elif(m=='may'):\n",
    "    print(\"31 days\")\n",
    "elif(m=='june'):\n",
    "    print(\"30 days\")\n",
    "elif(m=='july'):\n",
    "    print(\"31 days\")\n",
    "elif(m=='aug'):\n",
    "    print(\"31 days\")\n",
    "elif(m=='sep'):\n",
    "    print(\"30 days\")\n",
    "elif(m=='oct'):\n",
    "    print(\"31 days\")    \n",
    "elif(m=='nov'):\n",
    "    print(\"30 days\")\n",
    "elif(m=='dec'):\n",
    "    print(\"31 days\")  \n",
    "else:\n",
    "    print(\"enter month in 3 letters in smalls\")"
   ]
  },
  {
   "cell_type": "code",
   "execution_count": 5,
   "id": "c9d3034e",
   "metadata": {},
   "outputs": [
    {
     "name": "stdout",
     "output_type": "stream",
     "text": [
      "enter row:5\n",
      "enter coloumn:e\n",
      "black\n"
     ]
    }
   ],
   "source": [
    "r=int(input(\"enter row:\"))\n",
    "if(r%2==0):\n",
    "    c=input(\"enter coloumn:\")\n",
    "    if c in ('a','c','e','g'):\n",
    "        print(\"white\")\n",
    "    elif c in ('b','d','f','h'):\n",
    "        print(\"black\")\n",
    "else:\n",
    "    c=input(\"enter coloumn:\")\n",
    "    if c in ('a','c','e','g'):\n",
    "        print(\"black\")\n",
    "    elif c in ('b','d','f','h'):\n",
    "        print(\"white\")\n",
    "    \n"
   ]
  },
  {
   "cell_type": "code",
   "execution_count": 6,
   "id": "4e76a6ff",
   "metadata": {},
   "outputs": [
    {
     "name": "stdout",
     "output_type": "stream",
     "text": [
      "enter date:21\n",
      "enter month name:June\n",
      "Summer\n"
     ]
    }
   ],
   "source": [
    "d=int(input(\"enter date:\"))\n",
    "if(d==22):\n",
    "    print(\"Fall\")\n",
    "elif(d==20):\n",
    "    print(\"Spring\")\n",
    "elif(d==21):\n",
    "    m=input(\"enter month name:\")\n",
    "    if(m=='December'):\n",
    "        print(\"winter\")\n",
    "    elif(m=='June'):\n",
    "        print(\"Summer\")\n",
    "else:\n",
    "    print(\"enter dates in 20/21/22\")"
   ]
  },
  {
   "cell_type": "code",
   "execution_count": 7,
   "id": "dfe54c7d",
   "metadata": {},
   "outputs": [
    {
     "name": "stdout",
     "output_type": "stream",
     "text": [
      "enter year:1700\n",
      "not leap year\n"
     ]
    }
   ],
   "source": [
    "\n",
    "n=int(input(\"enter year:\"))\n",
    "if(n%400==0 and (n%4==0) or n//100==0):\n",
    "    print(\"leap year\")\n",
    "else:\n",
    "    print(\"not leap year\")"
   ]
  },
  {
   "cell_type": "code",
   "execution_count": 8,
   "id": "a9bb0bd4",
   "metadata": {},
   "outputs": [
    {
     "name": "stdout",
     "output_type": "stream",
     "text": [
      "enter wavelength:760\n",
      "enter wavelength in range btw 380 and 750\n"
     ]
    }
   ],
   "source": [
    "w=int(input(\"enter wavelength:\"))\n",
    "if(380<=w<450):\n",
    "    print(\"violet\")\n",
    "elif(450<=w<495):\n",
    "    print(\"blue\")\n",
    "elif(495<=w<570):\n",
    "    print(\"green\")\n",
    "elif(570<=w<590):\n",
    "    print(\"yellow\")\n",
    "elif(590<=w<620):\n",
    "    print(\"orange\")\n",
    "elif(620<=w<750):\n",
    "    print(\"red\")\n",
    "else:\n",
    "    print(\"enter wavelength in range btw 380 and 750\")"
   ]
  },
  {
   "cell_type": "code",
   "execution_count": null,
   "id": "79d17dec",
   "metadata": {},
   "outputs": [],
   "source": []
  }
 ],
 "metadata": {
  "kernelspec": {
   "display_name": "Python 3 (ipykernel)",
   "language": "python",
   "name": "python3"
  },
  "language_info": {
   "codemirror_mode": {
    "name": "ipython",
    "version": 3
   },
   "file_extension": ".py",
   "mimetype": "text/x-python",
   "name": "python",
   "nbconvert_exporter": "python",
   "pygments_lexer": "ipython3",
   "version": "3.10.8"
  }
 },
 "nbformat": 4,
 "nbformat_minor": 5
}
